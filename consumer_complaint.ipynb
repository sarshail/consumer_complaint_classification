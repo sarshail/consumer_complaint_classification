{
 "cells": [
  {
   "cell_type": "markdown",
   "metadata": {},
   "source": [
    "#                     Multi-Class Text Classification\n",
    "## Classifying Consumer Finance Complaints into 12 pre-defined classes."
   ]
  },
  {
   "cell_type": "markdown",
   "metadata": {},
   "source": [
    "### Problem Formulation: \n",
    "Type of Machine Learning problem: supervised Multi-class text classification problem\\\n",
    "Our goal: investigate which supervised machine learning methods are best suited to solve it. \\\n",
    "Prediction: Given a new complaint, assign it to one of 12 categories."
   ]
  },
  {
   "cell_type": "markdown",
   "metadata": {},
   "source": [
    "### Dataset\n",
    "Consumer Finance Complaints Data. The data can be downloaded from data.gov. \\\n",
    "'Consumer_Complaints.csv'"
   ]
  },
  {
   "cell_type": "code",
   "execution_count": 8,
   "metadata": {},
   "outputs": [],
   "source": [
    "import pandas as pd\n",
    "import matplotlib.pyplot as plt\n",
    "%matplotlib notebook"
   ]
  },
  {
   "cell_type": "markdown",
   "metadata": {},
   "source": [
    "### Data Exploration"
   ]
  },
  {
   "cell_type": "code",
   "execution_count": 9,
   "metadata": {},
   "outputs": [
    {
     "data": {
      "text/html": [
       "<div>\n",
       "<style scoped>\n",
       "    .dataframe tbody tr th:only-of-type {\n",
       "        vertical-align: middle;\n",
       "    }\n",
       "\n",
       "    .dataframe tbody tr th {\n",
       "        vertical-align: top;\n",
       "    }\n",
       "\n",
       "    .dataframe thead th {\n",
       "        text-align: right;\n",
       "    }\n",
       "</style>\n",
       "<table border=\"1\" class=\"dataframe\">\n",
       "  <thead>\n",
       "    <tr style=\"text-align: right;\">\n",
       "      <th></th>\n",
       "      <th>Date received</th>\n",
       "      <th>Product</th>\n",
       "      <th>Sub-product</th>\n",
       "      <th>Issue</th>\n",
       "      <th>Sub-issue</th>\n",
       "      <th>Consumer complaint narrative</th>\n",
       "      <th>Company public response</th>\n",
       "      <th>Company</th>\n",
       "      <th>State</th>\n",
       "      <th>ZIP code</th>\n",
       "      <th>Tags</th>\n",
       "      <th>Consumer consent provided?</th>\n",
       "      <th>Submitted via</th>\n",
       "      <th>Date sent to company</th>\n",
       "      <th>Company response to consumer</th>\n",
       "      <th>Timely response?</th>\n",
       "      <th>Consumer disputed?</th>\n",
       "      <th>Complaint ID</th>\n",
       "    </tr>\n",
       "  </thead>\n",
       "  <tbody>\n",
       "    <tr>\n",
       "      <th>0</th>\n",
       "      <td>2019-09-24</td>\n",
       "      <td>Debt collection</td>\n",
       "      <td>I do not know</td>\n",
       "      <td>Attempts to collect debt not owed</td>\n",
       "      <td>Debt is not yours</td>\n",
       "      <td>transworld systems inc. \\nis trying to collect...</td>\n",
       "      <td>NaN</td>\n",
       "      <td>TRANSWORLD SYSTEMS INC</td>\n",
       "      <td>FL</td>\n",
       "      <td>335XX</td>\n",
       "      <td>NaN</td>\n",
       "      <td>Consent provided</td>\n",
       "      <td>Web</td>\n",
       "      <td>2019-09-24</td>\n",
       "      <td>Closed with explanation</td>\n",
       "      <td>Yes</td>\n",
       "      <td>NaN</td>\n",
       "      <td>3384392</td>\n",
       "    </tr>\n",
       "    <tr>\n",
       "      <th>1</th>\n",
       "      <td>2019-09-19</td>\n",
       "      <td>Credit reporting, credit repair services, or o...</td>\n",
       "      <td>Credit reporting</td>\n",
       "      <td>Incorrect information on your report</td>\n",
       "      <td>Information belongs to someone else</td>\n",
       "      <td>NaN</td>\n",
       "      <td>Company has responded to the consumer and the ...</td>\n",
       "      <td>Experian Information Solutions Inc.</td>\n",
       "      <td>PA</td>\n",
       "      <td>15206</td>\n",
       "      <td>NaN</td>\n",
       "      <td>Consent not provided</td>\n",
       "      <td>Web</td>\n",
       "      <td>2019-09-20</td>\n",
       "      <td>Closed with non-monetary relief</td>\n",
       "      <td>Yes</td>\n",
       "      <td>NaN</td>\n",
       "      <td>3379500</td>\n",
       "    </tr>\n",
       "    <tr>\n",
       "      <th>2</th>\n",
       "      <td>2019-11-08</td>\n",
       "      <td>Debt collection</td>\n",
       "      <td>I do not know</td>\n",
       "      <td>Communication tactics</td>\n",
       "      <td>Frequent or repeated calls</td>\n",
       "      <td>Over the past 2 weeks, I have been receiving e...</td>\n",
       "      <td>NaN</td>\n",
       "      <td>Diversified Consultants, Inc.</td>\n",
       "      <td>NC</td>\n",
       "      <td>275XX</td>\n",
       "      <td>NaN</td>\n",
       "      <td>Consent provided</td>\n",
       "      <td>Web</td>\n",
       "      <td>2019-11-08</td>\n",
       "      <td>Closed with explanation</td>\n",
       "      <td>Yes</td>\n",
       "      <td>NaN</td>\n",
       "      <td>3433198</td>\n",
       "    </tr>\n",
       "    <tr>\n",
       "      <th>3</th>\n",
       "      <td>2021-04-12</td>\n",
       "      <td>Credit card or prepaid card</td>\n",
       "      <td>Government benefit card</td>\n",
       "      <td>Problem getting a card or closing an account</td>\n",
       "      <td>Trouble getting, activating, or registering a ...</td>\n",
       "      <td>NaN</td>\n",
       "      <td>NaN</td>\n",
       "      <td>Comerica</td>\n",
       "      <td>TX</td>\n",
       "      <td>758XX</td>\n",
       "      <td>Older American</td>\n",
       "      <td>NaN</td>\n",
       "      <td>Phone</td>\n",
       "      <td>2021-04-12</td>\n",
       "      <td>Closed with monetary relief</td>\n",
       "      <td>Yes</td>\n",
       "      <td>NaN</td>\n",
       "      <td>4291297</td>\n",
       "    </tr>\n",
       "    <tr>\n",
       "      <th>4</th>\n",
       "      <td>2019-05-23</td>\n",
       "      <td>Checking or savings account</td>\n",
       "      <td>Checking account</td>\n",
       "      <td>Managing an account</td>\n",
       "      <td>Deposits and withdrawals</td>\n",
       "      <td>NaN</td>\n",
       "      <td>Company has responded to the consumer and the ...</td>\n",
       "      <td>MIDFIRST BANK</td>\n",
       "      <td>AZ</td>\n",
       "      <td>85254</td>\n",
       "      <td>NaN</td>\n",
       "      <td>NaN</td>\n",
       "      <td>Referral</td>\n",
       "      <td>2019-05-28</td>\n",
       "      <td>Closed with explanation</td>\n",
       "      <td>Yes</td>\n",
       "      <td>NaN</td>\n",
       "      <td>3255455</td>\n",
       "    </tr>\n",
       "  </tbody>\n",
       "</table>\n",
       "</div>"
      ],
      "text/plain": [
       "  Date received                                            Product  \\\n",
       "0    2019-09-24                                    Debt collection   \n",
       "1    2019-09-19  Credit reporting, credit repair services, or o...   \n",
       "2    2019-11-08                                    Debt collection   \n",
       "3    2021-04-12                        Credit card or prepaid card   \n",
       "4    2019-05-23                        Checking or savings account   \n",
       "\n",
       "               Sub-product                                         Issue  \\\n",
       "0            I do not know             Attempts to collect debt not owed   \n",
       "1         Credit reporting          Incorrect information on your report   \n",
       "2            I do not know                         Communication tactics   \n",
       "3  Government benefit card  Problem getting a card or closing an account   \n",
       "4         Checking account                           Managing an account   \n",
       "\n",
       "                                           Sub-issue  \\\n",
       "0                                  Debt is not yours   \n",
       "1                Information belongs to someone else   \n",
       "2                         Frequent or repeated calls   \n",
       "3  Trouble getting, activating, or registering a ...   \n",
       "4                           Deposits and withdrawals   \n",
       "\n",
       "                        Consumer complaint narrative  \\\n",
       "0  transworld systems inc. \\nis trying to collect...   \n",
       "1                                                NaN   \n",
       "2  Over the past 2 weeks, I have been receiving e...   \n",
       "3                                                NaN   \n",
       "4                                                NaN   \n",
       "\n",
       "                             Company public response  \\\n",
       "0                                                NaN   \n",
       "1  Company has responded to the consumer and the ...   \n",
       "2                                                NaN   \n",
       "3                                                NaN   \n",
       "4  Company has responded to the consumer and the ...   \n",
       "\n",
       "                               Company State ZIP code            Tags  \\\n",
       "0               TRANSWORLD SYSTEMS INC    FL    335XX             NaN   \n",
       "1  Experian Information Solutions Inc.    PA    15206             NaN   \n",
       "2        Diversified Consultants, Inc.    NC    275XX             NaN   \n",
       "3                             Comerica    TX    758XX  Older American   \n",
       "4                        MIDFIRST BANK    AZ    85254             NaN   \n",
       "\n",
       "  Consumer consent provided? Submitted via Date sent to company  \\\n",
       "0           Consent provided           Web           2019-09-24   \n",
       "1       Consent not provided           Web           2019-09-20   \n",
       "2           Consent provided           Web           2019-11-08   \n",
       "3                        NaN         Phone           2021-04-12   \n",
       "4                        NaN      Referral           2019-05-28   \n",
       "\n",
       "      Company response to consumer Timely response? Consumer disputed?  \\\n",
       "0          Closed with explanation              Yes                NaN   \n",
       "1  Closed with non-monetary relief              Yes                NaN   \n",
       "2          Closed with explanation              Yes                NaN   \n",
       "3      Closed with monetary relief              Yes                NaN   \n",
       "4          Closed with explanation              Yes                NaN   \n",
       "\n",
       "   Complaint ID  \n",
       "0       3384392  \n",
       "1       3379500  \n",
       "2       3433198  \n",
       "3       4291297  \n",
       "4       3255455  "
      ]
     },
     "execution_count": 9,
     "metadata": {},
     "output_type": "execute_result"
    }
   ],
   "source": [
    "import pandas as pd\n",
    "original_df = pd.read_csv('complaints.csv')\n",
    "original_df.head()"
   ]
  },
  {
   "cell_type": "code",
   "execution_count": 10,
   "metadata": {},
   "outputs": [
    {
     "name": "stdout",
     "output_type": "stream",
     "text": [
      "2069893\n"
     ]
    }
   ],
   "source": [
    "total_rows = original_df.shape[0]\n",
    "print(total_rows)"
   ]
  },
  {
   "cell_type": "code",
   "execution_count": null,
   "metadata": {},
   "outputs": [],
   "source": [
    "### USUAL EAD ###\n",
    "print(dataset.shape)\n",
    "# head\n",
    "print(dataset.head(20))\n",
    "# descriptions\n",
    "print(dataset.describe())\n",
    "# class distribution\n",
    "print(dataset.groupby('class').size())"
   ]
  },
  {
   "cell_type": "markdown",
   "metadata": {},
   "source": [
    "### Data Transformation\n",
    "For this project, we need only two columns — “Product” and “Consumer complaint narrative”.We will also remove missing values in “Consumer complaints narrative” column  "
   ]
  },
  {
   "cell_type": "code",
   "execution_count": 11,
   "metadata": {},
   "outputs": [
    {
     "data": {
      "text/html": [
       "<div>\n",
       "<style scoped>\n",
       "    .dataframe tbody tr th:only-of-type {\n",
       "        vertical-align: middle;\n",
       "    }\n",
       "\n",
       "    .dataframe tbody tr th {\n",
       "        vertical-align: top;\n",
       "    }\n",
       "\n",
       "    .dataframe thead th {\n",
       "        text-align: right;\n",
       "    }\n",
       "</style>\n",
       "<table border=\"1\" class=\"dataframe\">\n",
       "  <thead>\n",
       "    <tr style=\"text-align: right;\">\n",
       "      <th></th>\n",
       "      <th>Product</th>\n",
       "      <th>Consumer_complaint_narrative</th>\n",
       "      <th>category_id</th>\n",
       "    </tr>\n",
       "  </thead>\n",
       "  <tbody>\n",
       "    <tr>\n",
       "      <th>0</th>\n",
       "      <td>Debt collection</td>\n",
       "      <td>transworld systems inc. \\nis trying to collect...</td>\n",
       "      <td>0</td>\n",
       "    </tr>\n",
       "    <tr>\n",
       "      <th>2</th>\n",
       "      <td>Debt collection</td>\n",
       "      <td>Over the past 2 weeks, I have been receiving e...</td>\n",
       "      <td>0</td>\n",
       "    </tr>\n",
       "    <tr>\n",
       "      <th>5</th>\n",
       "      <td>Credit reporting, credit repair services, or o...</td>\n",
       "      <td>I am a victim of identity theft. My personal i...</td>\n",
       "      <td>1</td>\n",
       "    </tr>\n",
       "    <tr>\n",
       "      <th>9</th>\n",
       "      <td>Credit reporting, credit repair services, or o...</td>\n",
       "      <td>Previously, on XX/XX/XXXX, XX/XX/XXXX, and XX/...</td>\n",
       "      <td>1</td>\n",
       "    </tr>\n",
       "    <tr>\n",
       "      <th>10</th>\n",
       "      <td>Credit reporting, credit repair services, or o...</td>\n",
       "      <td>Hello This complaint is against the three cred...</td>\n",
       "      <td>1</td>\n",
       "    </tr>\n",
       "  </tbody>\n",
       "</table>\n",
       "</div>"
      ],
      "text/plain": [
       "                                              Product  \\\n",
       "0                                     Debt collection   \n",
       "2                                     Debt collection   \n",
       "5   Credit reporting, credit repair services, or o...   \n",
       "9   Credit reporting, credit repair services, or o...   \n",
       "10  Credit reporting, credit repair services, or o...   \n",
       "\n",
       "                         Consumer_complaint_narrative  category_id  \n",
       "0   transworld systems inc. \\nis trying to collect...            0  \n",
       "2   Over the past 2 weeks, I have been receiving e...            0  \n",
       "5   I am a victim of identity theft. My personal i...            1  \n",
       "9   Previously, on XX/XX/XXXX, XX/XX/XXXX, and XX/...            1  \n",
       "10  Hello This complaint is against the three cred...            1  "
      ]
     },
     "execution_count": 11,
     "metadata": {},
     "output_type": "execute_result"
    }
   ],
   "source": [
    "col = ['Product', 'Consumer complaint narrative']\n",
    "original_df = original_df[col]\n",
    "original_df = original_df[pd.notnull(original_df['Consumer complaint narrative'])]\n",
    "original_df.columns = ['Product', 'Consumer_complaint_narrative']\n",
    "original_df['category_id'] = original_df['Product'].factorize()[0]\n",
    "original_df.head()"
   ]
  },
  {
   "cell_type": "code",
   "execution_count": 12,
   "metadata": {},
   "outputs": [
    {
     "name": "stdout",
     "output_type": "stream",
     "text": [
      "709037\n",
      "35451\n",
      "Credit reporting, credit repair services, or other personal consumer reports    13140\n",
      "Debt collection                                                                  6999\n",
      "Mortgage                                                                         3884\n",
      "Credit card or prepaid card                                                      2652\n",
      "Credit reporting                                                                 1579\n",
      "Checking or savings account                                                      1564\n",
      "Student loan                                                                     1406\n",
      "Credit card                                                                       942\n",
      "Bank account or service                                                           744\n",
      "Money transfer, virtual currency, or money service                                705\n",
      "Vehicle loan or lease                                                             648\n",
      "Consumer Loan                                                                     474\n",
      "Payday loan, title loan, or personal loan                                         464\n",
      "Payday loan                                                                        87\n",
      "Money transfers                                                                    75\n",
      "Prepaid card                                                                       72\n",
      "Name: Product, dtype: int64\n",
      "35451\n"
     ]
    }
   ],
   "source": [
    "total_rows = original_df.shape[0]\n",
    "print(total_rows)\n",
    "\n",
    "#Get a stratified sample (5 %)\n",
    "sample_df = original_df.groupby('category_id').apply(lambda x: x.sample(frac=0.05))\n",
    "print(sample_df.shape[0])\n",
    "counts = sample_df['Product'].value_counts()\n",
    "#print (counts)\n",
    "\n",
    "df = sample_df[~sample_df['Product'].isin(counts[counts < 20].index)]\n",
    "counts = df['Product'].value_counts()\n",
    "print (counts)\n",
    "print(sample_df.shape[0])\n"
   ]
  },
  {
   "cell_type": "markdown",
   "metadata": {},
   "source": [
    "Create \"Category to ID\" and \"ID to Category\" dictionaries"
   ]
  },
  {
   "cell_type": "code",
   "execution_count": 17,
   "metadata": {
    "scrolled": true
   },
   "outputs": [
    {
     "data": {
      "text/plain": [
       "{'Bank account or service': 12,\n",
       " 'Checking or savings account': 7,\n",
       " 'Consumer Loan': 10,\n",
       " 'Credit card': 8,\n",
       " 'Credit card or prepaid card': 6,\n",
       " 'Credit reporting': 13,\n",
       " 'Credit reporting, credit repair services, or other personal consumer reports': 1,\n",
       " 'Debt collection': 0,\n",
       " 'Money transfer, virtual currency, or money service': 2,\n",
       " 'Money transfers': 15,\n",
       " 'Mortgage': 3,\n",
       " 'Payday loan': 11,\n",
       " 'Payday loan, title loan, or personal loan': 9,\n",
       " 'Prepaid card': 16,\n",
       " 'Student loan': 5,\n",
       " 'Vehicle loan or lease': 4}"
      ]
     },
     "execution_count": 17,
     "metadata": {},
     "output_type": "execute_result"
    }
   ],
   "source": [
    "category_id_df = df[['Product', 'category_id']].drop_duplicates().sort_values('Product')\n",
    "category_to_id = dict(category_id_df.values)\n",
    "id_to_category = dict(category_id_df[['category_id', 'Product']].values)\n",
    "category_to_id"
   ]
  },
  {
   "cell_type": "markdown",
   "metadata": {},
   "source": [
    "### DATA VISUALIZATION"
   ]
  },
  {
   "cell_type": "markdown",
   "metadata": {},
   "source": [
    "Usually look at two types of plots:\\\n",
    "\n",
    "1. Univariate plots to better understand each attribute.\\\n",
    "2. Multivariate plots to better understand the relationships between attributes."
   ]
  },
  {
   "cell_type": "code",
   "execution_count": null,
   "metadata": {},
   "outputs": [],
   "source": [
    "# box and whisker plots\n",
    "dataset.plot(kind='box', subplots=True, layout=(2,2), sharex=False, sharey=False)\n",
    "pyplot.show()\n",
    "# histograms\n",
    "dataset.hist()\n",
    "pyplot.show()\n",
    "\n",
    "\n",
    "# scatter plot matrix\n",
    "scatter_matrix(dataset)\n",
    "pyplot.show()"
   ]
  },
  {
   "cell_type": "code",
   "execution_count": 44,
   "metadata": {
    "scrolled": false
   },
   "outputs": [
    {
     "data": {
      "image/png": "[encoded data removed]",
      "text/plain": [
       "<Figure size 864x576 with 1 Axes>"
      ]
     },
     "metadata": {
      "needs_background": "light"
     },
     "output_type": "display_data"
    }
   ],
   "source": [
    "import matplotlib.pyplot as plt\n",
    "%matplotlib inline\n",
    "fig = plt.figure(figsize=(12,8))\n",
    "df.groupby('Product').Consumer_complaint_narrative.count().plot.bar(ylim=0)\n",
    "plt.show()"
   ]
  },
  {
   "cell_type": "markdown",
   "metadata": {},
   "source": [
    "### ToDo: Imbalanced Classes\n",
    "Undersampling majority classes \\\n",
    "Oversampling Minority classes: SMOTE "
   ]
  },
  {
   "cell_type": "markdown",
   "metadata": {},
   "source": [
    "### ToDo: Pre-processing\n",
    "Convert to lowercase \\\n",
    "remove stop words \\\n",
    "Remove non-words, punctuation \\\n",
    "convert numbers to <num> or 'ddd' token \\\n",
    "Do stemmimg "
   ]
  },
  {
   "cell_type": "markdown",
   "metadata": {},
   "source": [
    "### Text to Vector\n",
    "Various approaches:\\\n",
    "1. Bag of Words with Count or Tf-Idf Features\n",
    "2. Word Embeddings - Word 2 Vec, Glove, BERT etc"
   ]
  },
  {
   "cell_type": "code",
   "execution_count": 47,
   "metadata": {},
   "outputs": [
    {
     "name": "stdout",
     "output_type": "stream",
     "text": [
      "(35435, 2000)\n"
     ]
    }
   ],
   "source": [
    "from sklearn.feature_extraction.text import TfidfVectorizer\n",
    "tfidf = TfidfVectorizer(max_features=2000, min_df=5, sublinear_tf=True, norm='l2', encoding='latin-1', lowercase=True, ngram_range=(1, 2), stop_words='english')\n",
    "features = tfidf.fit_transform(df.Consumer_complaint_narrative).toarray()\n",
    "labels = df.category_id\n",
    "print(features.shape)\n"
   ]
  },
  {
   "cell_type": "code",
   "execution_count": 50,
   "metadata": {},
   "outputs": [
    {
     "name": "stdout",
     "output_type": "stream",
     "text": [
      "[[0.16861806 0.         0.         ... 0.         0.         0.        ]\n",
      " [0.08368904 0.         0.         ... 0.         0.         0.        ]\n",
      " [0.05097482 0.         0.         ... 0.         0.         0.        ]\n",
      " [0.         0.         0.         ... 0.         0.         0.        ]\n",
      " [0.10833926 0.         0.         ... 0.         0.         0.        ]]\n"
     ]
    }
   ],
   "source": [
    "print(features[0:5])"
   ]
  },
  {
   "cell_type": "markdown",
   "metadata": {},
   "source": [
    "### Correlation: unigrams and bigrams with classes"
   ]
  },
  {
   "cell_type": "code",
   "execution_count": 22,
   "metadata": {},
   "outputs": [
    {
     "name": "stdout",
     "output_type": "stream",
     "text": [
      "# 'Bank account or service':\n",
      "  . Most correlated unigrams:\n",
      ". branch\n",
      ". bank\n",
      ". overdraft\n",
      "  . Most correlated bigrams:\n",
      ". debit card\n",
      ". checking account\n",
      ". overdraft fees\n",
      "# 'Checking or savings account':\n",
      "  . Most correlated unigrams:\n",
      ". bank\n",
      ". branch\n",
      ". deposit\n",
      "  . Most correlated bigrams:\n",
      ". overdraft fees\n",
      ". savings account\n",
      ". checking account\n",
      "# 'Consumer Loan':\n",
      "  . Most correlated unigrams:\n",
      ". ally\n",
      ". vehicle\n",
      ". car\n",
      "  . Most correlated bigrams:\n",
      ". loan xxxx\n",
      ". financial services\n",
      ". auto loan\n",
      "# 'Credit card':\n",
      "  . Most correlated unigrams:\n",
      ". amex\n",
      ". citi\n",
      ". card\n",
      "  . Most correlated bigrams:\n",
      ". synchrony bank\n",
      ". american express\n",
      ". credit card\n",
      "# 'Credit card or prepaid card':\n",
      "  . Most correlated unigrams:\n",
      ". capital\n",
      ". express\n",
      ". card\n",
      "  . Most correlated bigrams:\n",
      ". card company\n",
      ". american express\n",
      ". credit card\n",
      "# 'Credit reporting':\n",
      "  . Most correlated unigrams:\n",
      ". transunion\n",
      ". equifax\n",
      ". experian\n",
      "  . Most correlated bigrams:\n",
      ". credit report\n",
      ". public record\n",
      ". trans union\n",
      "# 'Credit reporting, credit repair services, or other personal consumer reports':\n",
      "  . Most correlated unigrams:\n",
      ". equifax\n",
      ". accounts\n",
      ". report\n",
      "  . Most correlated bigrams:\n",
      ". victim identity\n",
      ". identity theft\n",
      ". credit report\n",
      "# 'Debt collection':\n",
      "  . Most correlated unigrams:\n",
      ". collect\n",
      ". collection\n",
      ". debt\n",
      "  . Most correlated bigrams:\n",
      ". debt collector\n",
      ". collection agency\n",
      ". collect debt\n",
      "# 'Money transfer, virtual currency, or money service':\n",
      "  . Most correlated unigrams:\n",
      ". app\n",
      ". paypal\n",
      ". coinbase\n",
      "  . Most correlated bigrams:\n",
      ". email address\n",
      ". id xxxx\n",
      ". bank account\n",
      "# 'Money transfers':\n",
      "  . Most correlated unigrams:\n",
      ". seller\n",
      ". wire\n",
      ". paypal\n",
      "  . Most correlated bigrams:\n",
      ". xx 2016\n",
      ". xxxx bank\n",
      ". xxxx 2015\n",
      "# 'Mortgage':\n",
      "  . Most correlated unigrams:\n",
      ". escrow\n",
      ". modification\n",
      ". mortgage\n",
      "  . Most correlated bigrams:\n",
      ". mortgage payment\n",
      ". mortgage company\n",
      ". loan modification\n",
      "# 'Payday loan':\n",
      "  . Most correlated unigrams:\n",
      ". 600\n",
      ". loan\n",
      ". cash\n",
      "  . Most correlated bigrams:\n",
      ". 00 month\n",
      ". 300 00\n",
      ". loan xxxx\n",
      "# 'Payday loan, title loan, or personal loan':\n",
      "  . Most correlated unigrams:\n",
      ". main\n",
      ". lending\n",
      ". loan\n",
      "  . Most correlated bigrams:\n",
      ". make payments\n",
      ". loan xxxx\n",
      ". loan paid\n",
      "# 'Prepaid card':\n",
      "  . Most correlated unigrams:\n",
      ". express\n",
      ". card\n",
      ". gift\n",
      "  . Most correlated bigrams:\n",
      ". new card\n",
      ". direct deposit\n",
      ". american express\n",
      "# 'Student loan':\n",
      "  . Most correlated unigrams:\n",
      ". loans\n",
      ". student\n",
      ". navient\n",
      "  . Most correlated bigrams:\n",
      ". repayment plan\n",
      ". student loans\n",
      ". student loan\n",
      "# 'Vehicle loan or lease':\n",
      "  . Most correlated unigrams:\n",
      ". dealership\n",
      ". car\n",
      ". vehicle\n",
      "  . Most correlated bigrams:\n",
      ". make payment\n",
      ". financial services\n",
      ". auto loan\n"
     ]
    }
   ],
   "source": [
    "from sklearn.feature_selection import chi2\n",
    "import numpy as np\n",
    "N = 3\n",
    "for Product, category_id in sorted(category_to_id.items()):\n",
    "  features_chi2 = chi2(features, labels == category_id)\n",
    "  indices = np.argsort(features_chi2[0])\n",
    "  feature_names = np.array(tfidf.get_feature_names())[indices]\n",
    "  unigrams = [v for v in feature_names if len(v.split(' ')) == 1]\n",
    "  bigrams = [v for v in feature_names if len(v.split(' ')) == 2]\n",
    "  print(\"# '{}':\".format(Product))\n",
    "  print(\"  . Most correlated unigrams:\\n. {}\".format('\\n. '.join(unigrams[-N:])))\n",
    "  print(\"  . Most correlated bigrams:\\n. {}\".format('\\n. '.join(bigrams[-N:])))"
   ]
  },
  {
   "cell_type": "markdown",
   "metadata": {},
   "source": [
    "### Split data into train, validate, test"
   ]
  },
  {
   "cell_type": "code",
   "execution_count": 90,
   "metadata": {},
   "outputs": [
    {
     "name": "stdout",
     "output_type": "stream",
     "text": [
      "28348\n",
      "21261\n",
      "7087\n",
      "7087\n"
     ]
    }
   ],
   "source": [
    "X = df['Consumer_complaint_narrative']\n",
    "y = df['Product']\n",
    "\n",
    "X_train, X_test, y_train, y_test = train_test_split(X, y, test_size=0.2, stratify=y, random_state=1)\n",
    "\n",
    "X_train_sub, X_val, y_train_sub, y_val = train_test_split(X_train, y_train, test_size=0.25,  stratify=y_train, random_state=1) # 0.25 x 0.8 = 0.2\n",
    "    \n",
    "    \n",
    "print(len(X_train))\n",
    "print(len(X_train_sub))\n",
    "print(len(X_val))\n",
    "print(len(X_test))"
   ]
  },
  {
   "cell_type": "code",
   "execution_count": 91,
   "metadata": {},
   "outputs": [],
   "source": [
    "tfidf = TfidfVectorizer(max_features=2000, min_df=5, sublinear_tf=True, norm='l2', encoding='latin-1', lowercase=True, ngram_range=(1, 2), stop_words='english')\n",
    "X_train_tfIdf = tfidf.fit_transform(X_train)\n",
    "X_test_tfIdf = tfidf.fit_transform(X_test)"
   ]
  },
  {
   "cell_type": "markdown",
   "metadata": {},
   "source": [
    "### Train and Compare different models"
   ]
  },
  {
   "cell_type": "code",
   "execution_count": 123,
   "metadata": {},
   "outputs": [],
   "source": [
    "from sklearn.linear_model import LogisticRegression\n",
    "from sklearn.ensemble import RandomForestClassifier\n",
    "from sklearn.svm import LinearSVC\n",
    "from sklearn.model_selection import cross_val_score\n",
    "from sklearn.model_selection import StratifiedKFold\n",
    "\n",
    "features = X_train_tfIdf \n",
    "labels = y_train\n",
    "\n",
    "models = [\n",
    "    RandomForestClassifier(n_estimators=500, max_depth=5, random_state=1),\n",
    "    LinearSVC(random_state=1),\n",
    "    MultinomialNB(),\n",
    "    LogisticRegression(random_state=1, max_iter=1000),\n",
    "]\n",
    "\n",
    "CV = 5\n",
    "cv_df = pd.DataFrame(index=range(CV * len(models)))\n",
    "entries = []\n",
    "for model in models:\n",
    "  model_name = model.__class__.__name__\n",
    "  kfold = StratifiedKFold(n_splits=CV, random_state=1, shuffle=True)\n",
    "  accuracies = cross_val_score(model, features, labels, scoring='accuracy', cv=kfold)\n",
    "  for fold_idx, accuracy in enumerate(accuracies):\n",
    "    entries.append((model_name, fold_idx, accuracy))\n",
    "cv_df = pd.DataFrame(entries, columns=['model_name', 'fold_idx', 'accuracy'])\n",
    "\n",
    "## Try F1 score etc (micro-average, macro average)\n",
    "#Micro-average preferred in class imbalance situation"
   ]
  },
  {
   "cell_type": "code",
   "execution_count": 124,
   "metadata": {},
   "outputs": [
    {
     "data": {
      "image/png": "[encoded data removed]",
      "text/plain": [
       "<Figure size 432x288 with 1 Axes>"
      ]
     },
     "metadata": {
      "needs_background": "light"
     },
     "output_type": "display_data"
    },
    {
     "data": {
      "text/plain": [
       "<Figure size 432x288 with 0 Axes>"
      ]
     },
     "metadata": {},
     "output_type": "display_data"
    }
   ],
   "source": [
    "\n",
    "import seaborn as sns\n",
    "sns.boxplot(x='model_name', y='accuracy', data=cv_df)\n",
    "sns.stripplot(x='model_name', y='accuracy', data=cv_df, \n",
    "              size=8, jitter=True, edgecolor=\"gray\", linewidth=2)\n",
    "plt.figure(2)\n",
    "plt.show()"
   ]
  },
  {
   "cell_type": "code",
   "execution_count": 125,
   "metadata": {},
   "outputs": [
    {
     "data": {
      "text/plain": [
       "model_name\n",
       "LinearSVC                 0.729752\n",
       "LogisticRegression        0.743121\n",
       "MultinomialNB             0.702484\n",
       "RandomForestClassifier    0.467687\n",
       "Name: accuracy, dtype: float64"
      ]
     },
     "execution_count": 125,
     "metadata": {},
     "output_type": "execute_result"
    }
   ],
   "source": [
    "cv_df.groupby('model_name').accuracy.mean()"
   ]
  },
  {
   "cell_type": "markdown",
   "metadata": {},
   "source": [
    "### Train and Tune the better performing model: "
   ]
  },
  {
   "cell_type": "code",
   "execution_count": 126,
   "metadata": {},
   "outputs": [],
   "source": [
    "clf = LinearSVC(random_state=1).fit(features, labels)\n",
    "#clf = LogisticRegression(random_state=1, max_iter=1000).fit(features, labels)"
   ]
  },
  {
   "cell_type": "markdown",
   "metadata": {},
   "source": [
    "### Do Hyperparameter Tuning \n",
    "Grid search or other ways"
   ]
  },
  {
   "cell_type": "code",
   "execution_count": null,
   "metadata": {},
   "outputs": [],
   "source": [
    "from sklearn.model_selection import GridSearchCV\n",
    "\n",
    "param_grid = {'C': [0.1,1, 10, 100], 'gamma': [1,0.1,0.01,0.001],'kernel': ['rbf', 'poly', 'sigmoid']}\n",
    "\n",
    "grid = GridSearchCV(SVC(),param_grid,refit=True,verbose=2)\n",
    "grid.fit(features,labels)"
   ]
  },
  {
   "cell_type": "code",
   "execution_count": null,
   "metadata": {},
   "outputs": [],
   "source": [
    "print(grid.best_estimator_)\n",
    "grid_predictions = grid.predict(X_test_tfIdf)\n",
    "print(confusion_matrix(y_test,grid_predictions))\n",
    "print(classification_report(y_test,grid_predictions))"
   ]
  },
  {
   "cell_type": "code",
   "execution_count": 130,
   "metadata": {},
   "outputs": [
    {
     "name": "stderr",
     "output_type": "stream",
     "text": [
      "/Users/shail/ml_env/lib/python3.7/site-packages/sklearn/svm/_base.py:986: ConvergenceWarning: Liblinear failed to converge, increase the number of iterations.\n",
      "  \"the number of iterations.\", ConvergenceWarning)\n",
      "/Users/shail/ml_env/lib/python3.7/site-packages/sklearn/svm/_base.py:986: ConvergenceWarning: Liblinear failed to converge, increase the number of iterations.\n",
      "  \"the number of iterations.\", ConvergenceWarning)\n",
      "/Users/shail/ml_env/lib/python3.7/site-packages/sklearn/svm/_base.py:986: ConvergenceWarning: Liblinear failed to converge, increase the number of iterations.\n",
      "  \"the number of iterations.\", ConvergenceWarning)\n",
      "/Users/shail/ml_env/lib/python3.7/site-packages/sklearn/svm/_base.py:986: ConvergenceWarning: Liblinear failed to converge, increase the number of iterations.\n",
      "  \"the number of iterations.\", ConvergenceWarning)\n",
      "/Users/shail/ml_env/lib/python3.7/site-packages/sklearn/svm/_base.py:986: ConvergenceWarning: Liblinear failed to converge, increase the number of iterations.\n",
      "  \"the number of iterations.\", ConvergenceWarning)\n",
      "/Users/shail/ml_env/lib/python3.7/site-packages/sklearn/svm/_base.py:986: ConvergenceWarning: Liblinear failed to converge, increase the number of iterations.\n",
      "  \"the number of iterations.\", ConvergenceWarning)\n",
      "/Users/shail/ml_env/lib/python3.7/site-packages/sklearn/svm/_base.py:986: ConvergenceWarning: Liblinear failed to converge, increase the number of iterations.\n",
      "  \"the number of iterations.\", ConvergenceWarning)\n",
      "/Users/shail/ml_env/lib/python3.7/site-packages/sklearn/svm/_base.py:986: ConvergenceWarning: Liblinear failed to converge, increase the number of iterations.\n",
      "  \"the number of iterations.\", ConvergenceWarning)\n",
      "/Users/shail/ml_env/lib/python3.7/site-packages/sklearn/svm/_base.py:986: ConvergenceWarning: Liblinear failed to converge, increase the number of iterations.\n",
      "  \"the number of iterations.\", ConvergenceWarning)\n",
      "/Users/shail/ml_env/lib/python3.7/site-packages/sklearn/svm/_base.py:986: ConvergenceWarning: Liblinear failed to converge, increase the number of iterations.\n",
      "  \"the number of iterations.\", ConvergenceWarning)\n",
      "/Users/shail/ml_env/lib/python3.7/site-packages/sklearn/svm/_base.py:986: ConvergenceWarning: Liblinear failed to converge, increase the number of iterations.\n",
      "  \"the number of iterations.\", ConvergenceWarning)\n",
      "/Users/shail/ml_env/lib/python3.7/site-packages/sklearn/svm/_base.py:986: ConvergenceWarning: Liblinear failed to converge, increase the number of iterations.\n",
      "  \"the number of iterations.\", ConvergenceWarning)\n",
      "/Users/shail/ml_env/lib/python3.7/site-packages/sklearn/svm/_base.py:986: ConvergenceWarning: Liblinear failed to converge, increase the number of iterations.\n",
      "  \"the number of iterations.\", ConvergenceWarning)\n",
      "/Users/shail/ml_env/lib/python3.7/site-packages/sklearn/svm/_base.py:986: ConvergenceWarning: Liblinear failed to converge, increase the number of iterations.\n",
      "  \"the number of iterations.\", ConvergenceWarning)\n",
      "/Users/shail/ml_env/lib/python3.7/site-packages/sklearn/svm/_base.py:986: ConvergenceWarning: Liblinear failed to converge, increase the number of iterations.\n",
      "  \"the number of iterations.\", ConvergenceWarning)\n",
      "/Users/shail/ml_env/lib/python3.7/site-packages/sklearn/svm/_base.py:986: ConvergenceWarning: Liblinear failed to converge, increase the number of iterations.\n",
      "  \"the number of iterations.\", ConvergenceWarning)\n",
      "/Users/shail/ml_env/lib/python3.7/site-packages/sklearn/svm/_base.py:986: ConvergenceWarning: Liblinear failed to converge, increase the number of iterations.\n",
      "  \"the number of iterations.\", ConvergenceWarning)\n",
      "/Users/shail/ml_env/lib/python3.7/site-packages/sklearn/svm/_base.py:986: ConvergenceWarning: Liblinear failed to converge, increase the number of iterations.\n",
      "  \"the number of iterations.\", ConvergenceWarning)\n",
      "/Users/shail/ml_env/lib/python3.7/site-packages/sklearn/svm/_base.py:986: ConvergenceWarning: Liblinear failed to converge, increase the number of iterations.\n",
      "  \"the number of iterations.\", ConvergenceWarning)\n",
      "/Users/shail/ml_env/lib/python3.7/site-packages/sklearn/svm/_base.py:986: ConvergenceWarning: Liblinear failed to converge, increase the number of iterations.\n",
      "  \"the number of iterations.\", ConvergenceWarning)\n",
      "/Users/shail/ml_env/lib/python3.7/site-packages/sklearn/svm/_base.py:986: ConvergenceWarning: Liblinear failed to converge, increase the number of iterations.\n",
      "  \"the number of iterations.\", ConvergenceWarning)\n",
      "/Users/shail/ml_env/lib/python3.7/site-packages/sklearn/svm/_base.py:986: ConvergenceWarning: Liblinear failed to converge, increase the number of iterations.\n",
      "  \"the number of iterations.\", ConvergenceWarning)\n",
      "/Users/shail/ml_env/lib/python3.7/site-packages/sklearn/svm/_base.py:986: ConvergenceWarning: Liblinear failed to converge, increase the number of iterations.\n",
      "  \"the number of iterations.\", ConvergenceWarning)\n",
      "/Users/shail/ml_env/lib/python3.7/site-packages/sklearn/svm/_base.py:986: ConvergenceWarning: Liblinear failed to converge, increase the number of iterations.\n",
      "  \"the number of iterations.\", ConvergenceWarning)\n",
      "/Users/shail/ml_env/lib/python3.7/site-packages/sklearn/svm/_base.py:986: ConvergenceWarning: Liblinear failed to converge, increase the number of iterations.\n",
      "  \"the number of iterations.\", ConvergenceWarning)\n",
      "/Users/shail/ml_env/lib/python3.7/site-packages/sklearn/svm/_base.py:986: ConvergenceWarning: Liblinear failed to converge, increase the number of iterations.\n",
      "  \"the number of iterations.\", ConvergenceWarning)\n",
      "/Users/shail/ml_env/lib/python3.7/site-packages/sklearn/svm/_base.py:986: ConvergenceWarning: Liblinear failed to converge, increase the number of iterations.\n",
      "  \"the number of iterations.\", ConvergenceWarning)\n",
      "/Users/shail/ml_env/lib/python3.7/site-packages/sklearn/svm/_base.py:986: ConvergenceWarning: Liblinear failed to converge, increase the number of iterations.\n",
      "  \"the number of iterations.\", ConvergenceWarning)\n",
      "/Users/shail/ml_env/lib/python3.7/site-packages/sklearn/svm/_base.py:986: ConvergenceWarning: Liblinear failed to converge, increase the number of iterations.\n",
      "  \"the number of iterations.\", ConvergenceWarning)\n",
      "/Users/shail/ml_env/lib/python3.7/site-packages/sklearn/svm/_base.py:986: ConvergenceWarning: Liblinear failed to converge, increase the number of iterations.\n",
      "  \"the number of iterations.\", ConvergenceWarning)\n",
      "/Users/shail/ml_env/lib/python3.7/site-packages/sklearn/svm/_base.py:986: ConvergenceWarning: Liblinear failed to converge, increase the number of iterations.\n",
      "  \"the number of iterations.\", ConvergenceWarning)\n",
      "/Users/shail/ml_env/lib/python3.7/site-packages/sklearn/svm/_base.py:986: ConvergenceWarning: Liblinear failed to converge, increase the number of iterations.\n",
      "  \"the number of iterations.\", ConvergenceWarning)\n",
      "/Users/shail/ml_env/lib/python3.7/site-packages/sklearn/svm/_base.py:986: ConvergenceWarning: Liblinear failed to converge, increase the number of iterations.\n",
      "  \"the number of iterations.\", ConvergenceWarning)\n",
      "/Users/shail/ml_env/lib/python3.7/site-packages/sklearn/svm/_base.py:986: ConvergenceWarning: Liblinear failed to converge, increase the number of iterations.\n",
      "  \"the number of iterations.\", ConvergenceWarning)\n",
      "/Users/shail/ml_env/lib/python3.7/site-packages/sklearn/svm/_base.py:986: ConvergenceWarning: Liblinear failed to converge, increase the number of iterations.\n",
      "  \"the number of iterations.\", ConvergenceWarning)\n",
      "/Users/shail/ml_env/lib/python3.7/site-packages/sklearn/svm/_base.py:986: ConvergenceWarning: Liblinear failed to converge, increase the number of iterations.\n",
      "  \"the number of iterations.\", ConvergenceWarning)\n",
      "/Users/shail/ml_env/lib/python3.7/site-packages/sklearn/svm/_base.py:986: ConvergenceWarning: Liblinear failed to converge, increase the number of iterations.\n",
      "  \"the number of iterations.\", ConvergenceWarning)\n",
      "/Users/shail/ml_env/lib/python3.7/site-packages/sklearn/svm/_base.py:986: ConvergenceWarning: Liblinear failed to converge, increase the number of iterations.\n",
      "  \"the number of iterations.\", ConvergenceWarning)\n",
      "/Users/shail/ml_env/lib/python3.7/site-packages/sklearn/svm/_base.py:986: ConvergenceWarning: Liblinear failed to converge, increase the number of iterations.\n",
      "  \"the number of iterations.\", ConvergenceWarning)\n",
      "/Users/shail/ml_env/lib/python3.7/site-packages/sklearn/svm/_base.py:986: ConvergenceWarning: Liblinear failed to converge, increase the number of iterations.\n",
      "  \"the number of iterations.\", ConvergenceWarning)\n"
     ]
    },
    {
     "name": "stdout",
     "output_type": "stream",
     "text": [
      "{'C': 0.01}\n"
     ]
    }
   ],
   "source": [
    "from sklearn.model_selection import GridSearchCV\n",
    "\n",
    "param_grid = {'C':np.arange(0.01,100,10)}\n",
    "\n",
    "linearSVC = GridSearchCV(LinearSVC(),param_grid,cv=5,return_train_score=True)\n",
    "linearSVC.fit(features,labels)\n",
    "\n",
    "print(linearSVC.best_params_)"
   ]
  },
  {
   "cell_type": "code",
   "execution_count": 133,
   "metadata": {},
   "outputs": [],
   "source": [
    "bestlinearSVC = linearSVC.best_estimator_\n",
    "best_model = bestlinearSVC.fit(features,labels)\n",
    "clf = best_model\n",
    "#bestlinearSVC.coef_ = bestlinearSVC.named_steps['SVC'].coef_\n",
    "#bestlinearSVC.score(features,labels)"
   ]
  },
  {
   "cell_type": "markdown",
   "metadata": {},
   "source": [
    "### Test on a sample "
   ]
  },
  {
   "cell_type": "code",
   "execution_count": 138,
   "metadata": {},
   "outputs": [
    {
     "name": "stdout",
     "output_type": "stream",
     "text": [
      "Credco Inquiry from XX/XX/XXXX I spoke to CREDCO They told me that the account CLOSED and they contacted all credit agencies. They told me that they had to \" Re-Open '' the case and find out why it was not removed they pulled my credit on XX/XX/XXXX without consent nor permission. XXXX XXXX never responded and failed to provide \" Factual Records ''. They also pulled my credit on XX/XX/XXXX and again on XX/XX/XXXX in 30 days that \" XXXX '' \" XXXX '' AND \" XXXX '' Delete this from my records. Please see the attached Information from CREDCO and you can CONTACT Them directly to verify this was \" removed '' yet you guys failed to remove it from my credit file I want \" all three removed '' from my credit report in 30 days or Ill seek damages caused. They have submitted this request in XX/XX/XXXX and should of been removed then, CREDCO Claims they sent out all documents and request for removal. I checked my credit report and its still on my account. You have 30 days before I seek damages as this is stopping me from getting a loan to my property as this was \" 15 '' points taken from my account without consent. \n",
      "\n",
      "\n",
      "Credco Inquiry from XX/XX/XXXX Credco Inquiry from XX/XX/XXXX \" Credco you stated via telephone that all three bureaus were contacted for removal. The company XXXX XXXX Did not have consent nor permission to pull my credit - You Investigated this and found out I was correct and this was not \" factual '' records. CREDO Told me that they contacted XXXX, XXXX   AND XXXX for removal back in XX/XX/XXXX - They never removed this from my credit nor has CREDO Calld me back to fix this issue. ( XXXX ) XXXX I gave them to many chances they pulled my credit in total of three times I want all three removed not just \" One ''. I will cc my Attornery as I plan to sue you in a court of law. \n",
      "\n",
      "You failed to remove all three from my credit filed. \n",
      "You failed to contact me You failed to keep me updated You failed to send a letter of deletion for proof as your Representative stated he would have them contact me, He also Indicated that they have contacted all the agencies for removal and I had to re-call back in over 5 times requesting removal. \n",
      "\n",
      "CREDCO / Does not have permission to pull my credit nor did they have consent they contacted XXXX XXXX and failed to remove this. I will not wait more then 30 days and I did seek an attorney for damages as CREDCO Pulled my credit removing \" 15 points from my credit and refusing to remove this and or send me a deletion record ... ...\n",
      "\n",
      "True Label : Credit reporting, credit repair services, or other personal consumer reports\n",
      "\n",
      "Precited Label : Credit reporting, credit repair services, or other personal consumer reports\n"
     ]
    }
   ],
   "source": [
    "test_complaint = list(X_test)[1]\n",
    "print(test_complaint)\n",
    "true_label = list(y_test)[1]\n",
    "print('\\nTrue Label : {}'.format(true_label))\n",
    "\n",
    "\n",
    "doc_vector = tfidf.transform([test_complaint])\n",
    "result = clf.predict(doc_vector)\n",
    "print('\\nPrecited Label : {}'.format(result[0]))\n",
    " "
   ]
  },
  {
   "cell_type": "code",
   "execution_count": 135,
   "metadata": {},
   "outputs": [],
   "source": [
    "y_pred = clf.predict(X_test_tfIdf)"
   ]
  },
  {
   "cell_type": "code",
   "execution_count": 136,
   "metadata": {},
   "outputs": [
    {
     "name": "stdout",
     "output_type": "stream",
     "text": [
      "0.3883166360942571\n",
      "[[   1    6    0    4    3    1   94   34    1    0    5    0    0    0\n",
      "     0    0]\n",
      " [   1   13    0    1   13    0  229   49    1    0    5    0    0    0\n",
      "     0    1]\n",
      " [   0    1    0    2    2    1   54   26    0    0    8    0    0    0\n",
      "     1    0]\n",
      " [   2    0    0    3    8    0  106   60    0    0    8    0    0    0\n",
      "     0    1]\n",
      " [   0    4    0    0   35    0  369  102    1    0   18    0    0    0\n",
      "     1    0]\n",
      " [   0    2    0    1    6    5  197   93    0    0   10    0    0    0\n",
      "     2    0]\n",
      " [   0    7    0    2   25    4 1896  643    0    0   44    0    0    0\n",
      "     3    4]\n",
      " [   0    6    0    4   29    5  659  620    5    0   71    0    0    0\n",
      "     1    0]\n",
      " [   0    3    0    1    7    0   86   37    4    0    3    0    0    0\n",
      "     0    0]\n",
      " [   0    0    0    0    0    0    7    7    1    0    0    0    0    0\n",
      "     0    0]\n",
      " [   0    2    0    3   15    1  457  125    0    0  173    0    0    0\n",
      "     1    0]\n",
      " [   0    0    0    0    3    0    7    7    0    0    0    0    0    0\n",
      "     0    0]\n",
      " [   0    2    0    1    6    1   49   24    0    0    8    0    0    0\n",
      "     2    0]\n",
      " [   0    0    0    0    1    0   10    2    1    0    0    0    0    0\n",
      "     0    0]\n",
      " [   0    1    0    0    3    0  168   88    0    0   19    0    0    0\n",
      "     2    0]\n",
      " [   0    1    0    0    5    1   88   27    0    0    8    0    0    0\n",
      "     0    0]]\n",
      "                                                                              precision    recall  f1-score   support\n",
      "\n",
      "                                                     Bank account or service       0.25      0.01      0.01       149\n",
      "                                                 Checking or savings account       0.27      0.04      0.07       313\n",
      "                                                               Consumer Loan       0.00      0.00      0.00        95\n",
      "                                                                 Credit card       0.14      0.02      0.03       188\n",
      "                                                 Credit card or prepaid card       0.22      0.07      0.10       530\n",
      "                                                            Credit reporting       0.26      0.02      0.03       316\n",
      "Credit reporting, credit repair services, or other personal consumer reports       0.42      0.72      0.53      2628\n",
      "                                                             Debt collection       0.32      0.44      0.37      1400\n",
      "                          Money transfer, virtual currency, or money service       0.29      0.03      0.05       141\n",
      "                                                             Money transfers       0.00      0.00      0.00        15\n",
      "                                                                    Mortgage       0.46      0.22      0.30       777\n",
      "                                                                 Payday loan       0.00      0.00      0.00        17\n",
      "                                   Payday loan, title loan, or personal loan       0.00      0.00      0.00        93\n",
      "                                                                Prepaid card       0.00      0.00      0.00        14\n",
      "                                                                Student loan       0.15      0.01      0.01       281\n",
      "                                                       Vehicle loan or lease       0.00      0.00      0.00       130\n",
      "\n",
      "                                                                    accuracy                           0.39      7087\n",
      "                                                                   macro avg       0.17      0.10      0.09      7087\n",
      "                                                                weighted avg       0.33      0.39      0.32      7087\n",
      "\n"
     ]
    },
    {
     "name": "stderr",
     "output_type": "stream",
     "text": [
      "/Users/shail/ml_env/lib/python3.7/site-packages/sklearn/metrics/_classification.py:1248: UndefinedMetricWarning: Precision and F-score are ill-defined and being set to 0.0 in labels with no predicted samples. Use `zero_division` parameter to control this behavior.\n",
      "  _warn_prf(average, modifier, msg_start, len(result))\n",
      "/Users/shail/ml_env/lib/python3.7/site-packages/sklearn/metrics/_classification.py:1248: UndefinedMetricWarning: Precision and F-score are ill-defined and being set to 0.0 in labels with no predicted samples. Use `zero_division` parameter to control this behavior.\n",
      "  _warn_prf(average, modifier, msg_start, len(result))\n",
      "/Users/shail/ml_env/lib/python3.7/site-packages/sklearn/metrics/_classification.py:1248: UndefinedMetricWarning: Precision and F-score are ill-defined and being set to 0.0 in labels with no predicted samples. Use `zero_division` parameter to control this behavior.\n",
      "  _warn_prf(average, modifier, msg_start, len(result))\n"
     ]
    }
   ],
   "source": [
    "from sklearn.metrics import classification_report\n",
    "from sklearn.metrics import confusion_matrix\n",
    "from sklearn.metrics import accuracy_score\n",
    "# Evaluate predictions\n",
    "print(accuracy_score(y_test, predictions))\n",
    "print(confusion_matrix(y_test, predictions))\n",
    "print(classification_report(y_test, predictions))"
   ]
  },
  {
   "cell_type": "code",
   "execution_count": 40,
   "metadata": {},
   "outputs": [
    {
     "name": "stdout",
     "output_type": "stream",
     "text": [
      "'Checking or savings account' predicted as 'Bank account or service' : 22 examples.\n"
     ]
    },
    {
     "data": {
      "text/html": [
       "<div>\n",
       "<style scoped>\n",
       "    .dataframe tbody tr th:only-of-type {\n",
       "        vertical-align: middle;\n",
       "    }\n",
       "\n",
       "    .dataframe tbody tr th {\n",
       "        vertical-align: top;\n",
       "    }\n",
       "\n",
       "    .dataframe thead th {\n",
       "        text-align: right;\n",
       "    }\n",
       "</style>\n",
       "<table border=\"1\" class=\"dataframe\">\n",
       "  <thead>\n",
       "    <tr style=\"text-align: right;\">\n",
       "      <th></th>\n",
       "      <th></th>\n",
       "      <th>Product</th>\n",
       "      <th>Consumer_complaint_narrative</th>\n",
       "    </tr>\n",
       "    <tr>\n",
       "      <th>category_id</th>\n",
       "      <th></th>\n",
       "      <th></th>\n",
       "      <th></th>\n",
       "    </tr>\n",
       "  </thead>\n",
       "  <tbody>\n",
       "    <tr>\n",
       "      <th rowspan=\"22\" valign=\"top\">7</th>\n",
       "      <th>220974</th>\n",
       "      <td>Checking or savings account</td>\n",
       "      <td>I have previously submitted the same complaint...</td>\n",
       "    </tr>\n",
       "    <tr>\n",
       "      <th>150541</th>\n",
       "      <td>Checking or savings account</td>\n",
       "      <td>I have a Bank of America debit card and it was...</td>\n",
       "    </tr>\n",
       "    <tr>\n",
       "      <th>886589</th>\n",
       "      <td>Checking or savings account</td>\n",
       "      <td>Bank of America has blocked all my access to b...</td>\n",
       "    </tr>\n",
       "    <tr>\n",
       "      <th>50857</th>\n",
       "      <td>Checking or savings account</td>\n",
       "      <td>On XX/XX/2017, my house was broken in and {$60...</td>\n",
       "    </tr>\n",
       "    <tr>\n",
       "      <th>866447</th>\n",
       "      <td>Checking or savings account</td>\n",
       "      <td>Chase Bank Owes me {$290.00} for services not ...</td>\n",
       "    </tr>\n",
       "    <tr>\n",
       "      <th>1033090</th>\n",
       "      <td>Checking or savings account</td>\n",
       "      <td>OnXX/XX/XXXX, at the drive through window of U...</td>\n",
       "    </tr>\n",
       "    <tr>\n",
       "      <th>308148</th>\n",
       "      <td>Checking or savings account</td>\n",
       "      <td>I live in XXXX XXXX, tried to use my debit car...</td>\n",
       "    </tr>\n",
       "    <tr>\n",
       "      <th>1949580</th>\n",
       "      <td>Checking or savings account</td>\n",
       "      <td>Citibank has started assessing overdraft fees ...</td>\n",
       "    </tr>\n",
       "    <tr>\n",
       "      <th>51654</th>\n",
       "      <td>Checking or savings account</td>\n",
       "      <td>To whom it may concern : There is someone stea...</td>\n",
       "    </tr>\n",
       "    <tr>\n",
       "      <th>2034220</th>\n",
       "      <td>Checking or savings account</td>\n",
       "      <td>Bank did not properly disclose an excessive fe...</td>\n",
       "    </tr>\n",
       "    <tr>\n",
       "      <th>224497</th>\n",
       "      <td>Checking or savings account</td>\n",
       "      <td>I signed up for a checking account at https : ...</td>\n",
       "    </tr>\n",
       "    <tr>\n",
       "      <th>902840</th>\n",
       "      <td>Checking or savings account</td>\n",
       "      <td>On XX/XX/XXXX I wrote a check to be given to m...</td>\n",
       "    </tr>\n",
       "    <tr>\n",
       "      <th>1056203</th>\n",
       "      <td>Checking or savings account</td>\n",
       "      <td>My original complaint against Citizens Bank wa...</td>\n",
       "    </tr>\n",
       "    <tr>\n",
       "      <th>1001751</th>\n",
       "      <td>Checking or savings account</td>\n",
       "      <td>When I opened up my account in 2014 never rece...</td>\n",
       "    </tr>\n",
       "    <tr>\n",
       "      <th>919764</th>\n",
       "      <td>Checking or savings account</td>\n",
       "      <td>I am the durable power of attorney for my elde...</td>\n",
       "    </tr>\n",
       "    <tr>\n",
       "      <th>1997213</th>\n",
       "      <td>Checking or savings account</td>\n",
       "      <td>I was supposed to receive an account opening b...</td>\n",
       "    </tr>\n",
       "    <tr>\n",
       "      <th>1058566</th>\n",
       "      <td>Checking or savings account</td>\n",
       "      <td>Hello, It is time to do my XX/XX/XXXX taxes an...</td>\n",
       "    </tr>\n",
       "    <tr>\n",
       "      <th>1001418</th>\n",
       "      <td>Checking or savings account</td>\n",
       "      <td>My debit card ending in XXXX - was fraudulentl...</td>\n",
       "    </tr>\n",
       "    <tr>\n",
       "      <th>68059</th>\n",
       "      <td>Checking or savings account</td>\n",
       "      <td>Dear CFPB - I want to report TCF Bank Illinois...</td>\n",
       "    </tr>\n",
       "    <tr>\n",
       "      <th>347204</th>\n",
       "      <td>Checking or savings account</td>\n",
       "      <td>I reported to the bank when I found several tr...</td>\n",
       "    </tr>\n",
       "    <tr>\n",
       "      <th>132880</th>\n",
       "      <td>Checking or savings account</td>\n",
       "      <td>I had a Citizens Bank Checking Account number ...</td>\n",
       "    </tr>\n",
       "    <tr>\n",
       "      <th>878499</th>\n",
       "      <td>Checking or savings account</td>\n",
       "      <td>On Monday  XXXX   XXXX  I went in to Chase Pri...</td>\n",
       "    </tr>\n",
       "  </tbody>\n",
       "</table>\n",
       "</div>"
      ],
      "text/plain": [
       "                                         Product  \\\n",
       "category_id                                        \n",
       "7           220974   Checking or savings account   \n",
       "            150541   Checking or savings account   \n",
       "            886589   Checking or savings account   \n",
       "            50857    Checking or savings account   \n",
       "            866447   Checking or savings account   \n",
       "            1033090  Checking or savings account   \n",
       "            308148   Checking or savings account   \n",
       "            1949580  Checking or savings account   \n",
       "            51654    Checking or savings account   \n",
       "            2034220  Checking or savings account   \n",
       "            224497   Checking or savings account   \n",
       "            902840   Checking or savings account   \n",
       "            1056203  Checking or savings account   \n",
       "            1001751  Checking or savings account   \n",
       "            919764   Checking or savings account   \n",
       "            1997213  Checking or savings account   \n",
       "            1058566  Checking or savings account   \n",
       "            1001418  Checking or savings account   \n",
       "            68059    Checking or savings account   \n",
       "            347204   Checking or savings account   \n",
       "            132880   Checking or savings account   \n",
       "            878499   Checking or savings account   \n",
       "\n",
       "                                          Consumer_complaint_narrative  \n",
       "category_id                                                             \n",
       "7           220974   I have previously submitted the same complaint...  \n",
       "            150541   I have a Bank of America debit card and it was...  \n",
       "            886589   Bank of America has blocked all my access to b...  \n",
       "            50857    On XX/XX/2017, my house was broken in and {$60...  \n",
       "            866447   Chase Bank Owes me {$290.00} for services not ...  \n",
       "            1033090  OnXX/XX/XXXX, at the drive through window of U...  \n",
       "            308148   I live in XXXX XXXX, tried to use my debit car...  \n",
       "            1949580  Citibank has started assessing overdraft fees ...  \n",
       "            51654    To whom it may concern : There is someone stea...  \n",
       "            2034220  Bank did not properly disclose an excessive fe...  \n",
       "            224497   I signed up for a checking account at https : ...  \n",
       "            902840   On XX/XX/XXXX I wrote a check to be given to m...  \n",
       "            1056203  My original complaint against Citizens Bank wa...  \n",
       "            1001751  When I opened up my account in 2014 never rece...  \n",
       "            919764   I am the durable power of attorney for my elde...  \n",
       "            1997213  I was supposed to receive an account opening b...  \n",
       "            1058566  Hello, It is time to do my XX/XX/XXXX taxes an...  \n",
       "            1001418  My debit card ending in XXXX - was fraudulentl...  \n",
       "            68059    Dear CFPB - I want to report TCF Bank Illinois...  \n",
       "            347204   I reported to the bank when I found several tr...  \n",
       "            132880   I had a Citizens Bank Checking Account number ...  \n",
       "            878499   On Monday  XXXX   XXXX  I went in to Chase Pri...  "
      ]
     },
     "metadata": {},
     "output_type": "display_data"
    },
    {
     "name": "stdout",
     "output_type": "stream",
     "text": [
      "\n"
     ]
    },
    {
     "ename": "IndexError",
     "evalue": "index 16 is out of bounds for axis 0 with size 16",
     "output_type": "error",
     "traceback": [
      "\u001b[0;31m---------------------------------------------------------------------------\u001b[0m",
      "\u001b[0;31mIndexError\u001b[0m                                Traceback (most recent call last)",
      "\u001b[0;32m<ipython-input-40-2c68a60f08b3>\u001b[0m in \u001b[0;36m<module>\u001b[0;34m\u001b[0m\n\u001b[1;32m      2\u001b[0m \u001b[0;32mfor\u001b[0m \u001b[0mpredicted\u001b[0m \u001b[0;32min\u001b[0m \u001b[0mcategory_id_df\u001b[0m\u001b[0;34m.\u001b[0m\u001b[0mcategory_id\u001b[0m\u001b[0;34m:\u001b[0m\u001b[0;34m\u001b[0m\u001b[0;34m\u001b[0m\u001b[0m\n\u001b[1;32m      3\u001b[0m   \u001b[0;32mfor\u001b[0m \u001b[0mactual\u001b[0m \u001b[0;32min\u001b[0m \u001b[0mcategory_id_df\u001b[0m\u001b[0;34m.\u001b[0m\u001b[0mcategory_id\u001b[0m\u001b[0;34m:\u001b[0m\u001b[0;34m\u001b[0m\u001b[0;34m\u001b[0m\u001b[0m\n\u001b[0;32m----> 4\u001b[0;31m     \u001b[0;32mif\u001b[0m \u001b[0mpredicted\u001b[0m \u001b[0;34m!=\u001b[0m \u001b[0mactual\u001b[0m \u001b[0;32mand\u001b[0m \u001b[0mconf_mat\u001b[0m\u001b[0;34m[\u001b[0m\u001b[0mactual\u001b[0m\u001b[0;34m,\u001b[0m \u001b[0mpredicted\u001b[0m\u001b[0;34m]\u001b[0m \u001b[0;34m>=\u001b[0m \u001b[0;36m10\u001b[0m\u001b[0;34m:\u001b[0m\u001b[0;34m\u001b[0m\u001b[0;34m\u001b[0m\u001b[0m\n\u001b[0m\u001b[1;32m      5\u001b[0m       \u001b[0mprint\u001b[0m\u001b[0;34m(\u001b[0m\u001b[0;34m\"'{}' predicted as '{}' : {} examples.\"\u001b[0m\u001b[0;34m.\u001b[0m\u001b[0mformat\u001b[0m\u001b[0;34m(\u001b[0m\u001b[0mid_to_category\u001b[0m\u001b[0;34m[\u001b[0m\u001b[0mactual\u001b[0m\u001b[0;34m]\u001b[0m\u001b[0;34m,\u001b[0m \u001b[0mid_to_category\u001b[0m\u001b[0;34m[\u001b[0m\u001b[0mpredicted\u001b[0m\u001b[0;34m]\u001b[0m\u001b[0;34m,\u001b[0m \u001b[0mconf_mat\u001b[0m\u001b[0;34m[\u001b[0m\u001b[0mactual\u001b[0m\u001b[0;34m,\u001b[0m \u001b[0mpredicted\u001b[0m\u001b[0;34m]\u001b[0m\u001b[0;34m)\u001b[0m\u001b[0;34m)\u001b[0m\u001b[0;34m\u001b[0m\u001b[0;34m\u001b[0m\u001b[0m\n\u001b[1;32m      6\u001b[0m       \u001b[0mdisplay\u001b[0m\u001b[0;34m(\u001b[0m\u001b[0mdf\u001b[0m\u001b[0;34m.\u001b[0m\u001b[0mloc\u001b[0m\u001b[0;34m[\u001b[0m\u001b[0mindices_test\u001b[0m\u001b[0;34m[\u001b[0m\u001b[0;34m(\u001b[0m\u001b[0my_test\u001b[0m \u001b[0;34m==\u001b[0m \u001b[0mactual\u001b[0m\u001b[0;34m)\u001b[0m \u001b[0;34m&\u001b[0m \u001b[0;34m(\u001b[0m\u001b[0my_pred\u001b[0m \u001b[0;34m==\u001b[0m \u001b[0mpredicted\u001b[0m\u001b[0;34m)\u001b[0m\u001b[0;34m]\u001b[0m\u001b[0;34m]\u001b[0m\u001b[0;34m[\u001b[0m\u001b[0;34m[\u001b[0m\u001b[0;34m'Product'\u001b[0m\u001b[0;34m,\u001b[0m \u001b[0;34m'Consumer_complaint_narrative'\u001b[0m\u001b[0;34m]\u001b[0m\u001b[0;34m]\u001b[0m\u001b[0;34m)\u001b[0m\u001b[0;34m\u001b[0m\u001b[0;34m\u001b[0m\u001b[0m\n",
      "\u001b[0;31mIndexError\u001b[0m: index 16 is out of bounds for axis 0 with size 16"
     ]
    }
   ],
   "source": [
    "from IPython.display import display\n",
    "for predicted in category_id_df.category_id:\n",
    "  for actual in category_id_df.category_id:\n",
    "    if predicted != actual and conf_mat[actual, predicted] >= 10:\n",
    "      print(\"'{}' predicted as '{}' : {} examples.\".format(id_to_category[actual], id_to_category[predicted], conf_mat[actual, predicted]))\n",
    "      display(df.loc[indices_test[(y_test == actual) & (y_pred == predicted)]][['Product', 'Consumer_complaint_narrative']])\n",
    "      print('')"
   ]
  },
  {
   "cell_type": "code",
   "execution_count": null,
   "metadata": {},
   "outputs": [],
   "source": []
  }
 ],
 "metadata": {
  "kernelspec": {
   "display_name": "Python 3",
   "language": "python",
   "name": "python3"
  },
  "language_info": {
   "codemirror_mode": {
    "name": "ipython",
    "version": 3
   },
   "file_extension": ".py",
   "mimetype": "text/x-python",
   "name": "python",
   "nbconvert_exporter": "python",
   "pygments_lexer": "ipython3",
   "version": "3.7.3"
  }
 },
 "nbformat": 4,
 "nbformat_minor": 2
}
